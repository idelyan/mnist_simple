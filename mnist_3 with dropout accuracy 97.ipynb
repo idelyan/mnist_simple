{
 "cells": [
  {
   "cell_type": "code",
   "execution_count": 18,
   "metadata": {},
   "outputs": [],
   "source": [
    "from __future__ import print_function\n",
    "import numpy as np\n",
    "from keras.datasets import mnist\n",
    "from keras.models import Sequential\n",
    "from keras.layers import Dense, Activation, Dropout\n",
    "from keras.optimizers import SGD\n",
    "from keras.utils import np_utils\n",
    "np.random.seed(1671)"
   ]
  },
  {
   "cell_type": "code",
   "execution_count": 19,
   "metadata": {},
   "outputs": [],
   "source": [
    "NP_EPOCH = 250\n",
    "BATCH_SIZE = 128\n",
    "VERBOSE = 1\n",
    "NB_CLASSES = 10\n",
    "OPTIMIZER = SGD()\n",
    "N_HIDDEN = 128\n",
    "VALIDATION_SPLIT = 0.2\n",
    "DROPOUT = 0.3"
   ]
  },
  {
   "cell_type": "code",
   "execution_count": 20,
   "metadata": {},
   "outputs": [],
   "source": [
    "(X_train, y_train), (X_test, y_test) = mnist.load_data()"
   ]
  },
  {
   "cell_type": "code",
   "execution_count": 21,
   "metadata": {},
   "outputs": [],
   "source": [
    "RESHAPED = 784"
   ]
  },
  {
   "cell_type": "code",
   "execution_count": 22,
   "metadata": {},
   "outputs": [],
   "source": [
    "X_train = X_train.reshape(60000, RESHAPED)\n",
    "X_test = X_test.reshape(10000, RESHAPED)\n",
    "X_train = X_train.astype('float32')\n",
    "X_test = X_test.astype('float32')"
   ]
  },
  {
   "cell_type": "code",
   "execution_count": 23,
   "metadata": {},
   "outputs": [
    {
     "name": "stdout",
     "output_type": "stream",
     "text": [
      "60000 train samples\n",
      "10000 test samples\n"
     ]
    }
   ],
   "source": [
    "X_train /= 255\n",
    "X_test /= 255\n",
    "\n",
    "print(X_train.shape[0], 'train samples')\n",
    "print(X_test.shape[0], 'test samples')"
   ]
  },
  {
   "cell_type": "code",
   "execution_count": 24,
   "metadata": {},
   "outputs": [],
   "source": [
    "Y_train = np_utils.to_categorical(y_train, NB_CLASSES)\n",
    "Y_test = np_utils.to_categorical(y_test, NB_CLASSES)"
   ]
  },
  {
   "cell_type": "code",
   "execution_count": 25,
   "metadata": {},
   "outputs": [
    {
     "name": "stdout",
     "output_type": "stream",
     "text": [
      "_________________________________________________________________\n",
      "Layer (type)                 Output Shape              Param #   \n",
      "=================================================================\n",
      "dense_4 (Dense)              (None, 128)               100480    \n",
      "_________________________________________________________________\n",
      "activation_4 (Activation)    (None, 128)               0         \n",
      "_________________________________________________________________\n",
      "dropout_3 (Dropout)          (None, 128)               0         \n",
      "_________________________________________________________________\n",
      "dense_5 (Dense)              (None, 128)               16512     \n",
      "_________________________________________________________________\n",
      "activation_5 (Activation)    (None, 128)               0         \n",
      "_________________________________________________________________\n",
      "dropout_4 (Dropout)          (None, 128)               0         \n",
      "_________________________________________________________________\n",
      "dense_6 (Dense)              (None, 10)                1290      \n",
      "_________________________________________________________________\n",
      "activation_6 (Activation)    (None, 10)                0         \n",
      "=================================================================\n",
      "Total params: 118,282\n",
      "Trainable params: 118,282\n",
      "Non-trainable params: 0\n",
      "_________________________________________________________________\n"
     ]
    }
   ],
   "source": [
    "model = Sequential()\n",
    "model.add(Dense(N_HIDDEN, input_shape=(RESHAPED,)))\n",
    "model.add(Activation('relu'))\n",
    "model.add(Dropout(DROPOUT))\n",
    "model.add(Dense(N_HIDDEN))\n",
    "model.add(Activation('relu'))\n",
    "model.add(Dropout(DROPOUT))\n",
    "model.add(Dense(NB_CLASSES))\n",
    "model.add(Activation('softmax'))\n",
    "model.summary()\n",
    "model.compile(loss='categorical_crossentropy',\n",
    "              optimizer=OPTIMIZER,\n",
    "              metrics=['accuracy'])"
   ]
  },
  {
   "cell_type": "code",
   "execution_count": 26,
   "metadata": {},
   "outputs": [
    {
     "name": "stdout",
     "output_type": "stream",
     "text": [
      "Train on 48000 samples, validate on 12000 samples\n",
      "Epoch 1/250\n",
      "48000/48000 [==============================] - 5s 114us/step - loss: 1.7403 - acc: 0.4539 - val_loss: 0.9292 - val_acc: 0.8125\n",
      "Epoch 2/250\n",
      "48000/48000 [==============================] - 4s 83us/step - loss: 0.9231 - acc: 0.7231 - val_loss: 0.5400 - val_acc: 0.8653\n",
      "Epoch 3/250\n",
      "48000/48000 [==============================] - 4s 83us/step - loss: 0.6935 - acc: 0.7881 - val_loss: 0.4297 - val_acc: 0.8884\n",
      "Epoch 4/250\n",
      "48000/48000 [==============================] - 4s 83us/step - loss: 0.5947 - acc: 0.8210 - val_loss: 0.3790 - val_acc: 0.8977\n",
      "Epoch 5/250\n",
      "48000/48000 [==============================] - 4s 93us/step - loss: 0.5347 - acc: 0.8392 - val_loss: 0.3455 - val_acc: 0.9042\n",
      "Epoch 6/250\n",
      "48000/48000 [==============================] - 4s 79us/step - loss: 0.4976 - acc: 0.8525 - val_loss: 0.3232 - val_acc: 0.9107\n",
      "Epoch 7/250\n",
      "48000/48000 [==============================] - 4s 76us/step - loss: 0.4616 - acc: 0.8628 - val_loss: 0.3048 - val_acc: 0.9128\n",
      "Epoch 8/250\n",
      "48000/48000 [==============================] - 4s 79us/step - loss: 0.4386 - acc: 0.8687 - val_loss: 0.2896 - val_acc: 0.9172\n",
      "Epoch 9/250\n",
      "48000/48000 [==============================] - 4s 76us/step - loss: 0.4181 - acc: 0.8760 - val_loss: 0.2776 - val_acc: 0.9200\n",
      "Epoch 10/250\n",
      "48000/48000 [==============================] - 4s 80us/step - loss: 0.3990 - acc: 0.8838 - val_loss: 0.2656 - val_acc: 0.9233\n",
      "Epoch 11/250\n",
      "48000/48000 [==============================] - 4s 79us/step - loss: 0.3819 - acc: 0.8875 - val_loss: 0.2551 - val_acc: 0.9257\n",
      "Epoch 12/250\n",
      "48000/48000 [==============================] - 4s 75us/step - loss: 0.3688 - acc: 0.8920 - val_loss: 0.2465 - val_acc: 0.9283\n",
      "Epoch 13/250\n",
      "48000/48000 [==============================] - 4s 77us/step - loss: 0.3571 - acc: 0.8945 - val_loss: 0.2388 - val_acc: 0.9299\n",
      "Epoch 14/250\n",
      "48000/48000 [==============================] - 4s 75us/step - loss: 0.3466 - acc: 0.8991 - val_loss: 0.2319 - val_acc: 0.9322\n",
      "Epoch 15/250\n",
      "48000/48000 [==============================] - 4s 76us/step - loss: 0.3358 - acc: 0.9014 - val_loss: 0.2260 - val_acc: 0.9341\n",
      "Epoch 16/250\n",
      "48000/48000 [==============================] - 4s 77us/step - loss: 0.3244 - acc: 0.9055 - val_loss: 0.2180 - val_acc: 0.9351\n",
      "Epoch 17/250\n",
      "48000/48000 [==============================] - 4s 77us/step - loss: 0.3142 - acc: 0.9086 - val_loss: 0.2121 - val_acc: 0.9377\n",
      "Epoch 18/250\n",
      "48000/48000 [==============================] - 4s 76us/step - loss: 0.3102 - acc: 0.9093 - val_loss: 0.2075 - val_acc: 0.9390\n",
      "Epoch 19/250\n",
      "48000/48000 [==============================] - 4s 76us/step - loss: 0.3019 - acc: 0.9118 - val_loss: 0.2018 - val_acc: 0.9409\n",
      "Epoch 20/250\n",
      "48000/48000 [==============================] - 4s 76us/step - loss: 0.2931 - acc: 0.9133 - val_loss: 0.1974 - val_acc: 0.9422\n",
      "Epoch 21/250\n",
      "48000/48000 [==============================] - 4s 76us/step - loss: 0.2866 - acc: 0.9172 - val_loss: 0.1920 - val_acc: 0.9438\n",
      "Epoch 22/250\n",
      "48000/48000 [==============================] - 4s 80us/step - loss: 0.2789 - acc: 0.9172 - val_loss: 0.1879 - val_acc: 0.9446\n",
      "Epoch 23/250\n",
      "48000/48000 [==============================] - 4s 77us/step - loss: 0.2730 - acc: 0.9199 - val_loss: 0.1841 - val_acc: 0.9463\n",
      "Epoch 24/250\n",
      "48000/48000 [==============================] - 4s 76us/step - loss: 0.2686 - acc: 0.9212 - val_loss: 0.1811 - val_acc: 0.9465\n",
      "Epoch 25/250\n",
      "48000/48000 [==============================] - 4s 79us/step - loss: 0.2618 - acc: 0.9233 - val_loss: 0.1770 - val_acc: 0.9477\n",
      "Epoch 26/250\n",
      "48000/48000 [==============================] - 4s 75us/step - loss: 0.2584 - acc: 0.9249 - val_loss: 0.1735 - val_acc: 0.9490\n",
      "Epoch 27/250\n",
      "48000/48000 [==============================] - 4s 76us/step - loss: 0.2539 - acc: 0.9253 - val_loss: 0.1706 - val_acc: 0.9496\n",
      "Epoch 28/250\n",
      "48000/48000 [==============================] - 4s 76us/step - loss: 0.2453 - acc: 0.9278 - val_loss: 0.1676 - val_acc: 0.9502\n",
      "Epoch 29/250\n",
      "48000/48000 [==============================] - 4s 77us/step - loss: 0.2427 - acc: 0.9275 - val_loss: 0.1640 - val_acc: 0.9517\n",
      "Epoch 30/250\n",
      "48000/48000 [==============================] - 5s 94us/step - loss: 0.2397 - acc: 0.9296 - val_loss: 0.1615 - val_acc: 0.9521\n",
      "Epoch 31/250\n",
      "48000/48000 [==============================] - 4s 79us/step - loss: 0.2360 - acc: 0.9304 - val_loss: 0.1590 - val_acc: 0.9534\n",
      "Epoch 32/250\n",
      "48000/48000 [==============================] - 4s 76us/step - loss: 0.2320 - acc: 0.9306 - val_loss: 0.1567 - val_acc: 0.9546\n",
      "Epoch 33/250\n",
      "48000/48000 [==============================] - 4s 89us/step - loss: 0.2284 - acc: 0.9329 - val_loss: 0.1533 - val_acc: 0.9553\n",
      "Epoch 34/250\n",
      "48000/48000 [==============================] - 5s 96us/step - loss: 0.2257 - acc: 0.9328 - val_loss: 0.1519 - val_acc: 0.9551\n",
      "Epoch 35/250\n",
      "48000/48000 [==============================] - 4s 81us/step - loss: 0.2214 - acc: 0.9353 - val_loss: 0.1501 - val_acc: 0.9556\n",
      "Epoch 36/250\n",
      "48000/48000 [==============================] - 4s 76us/step - loss: 0.2169 - acc: 0.9354 - val_loss: 0.1484 - val_acc: 0.9563\n",
      "Epoch 37/250\n",
      "48000/48000 [==============================] - 4s 88us/step - loss: 0.2124 - acc: 0.9375 - val_loss: 0.1458 - val_acc: 0.9569\n",
      "Epoch 38/250\n",
      "48000/48000 [==============================] - 4s 77us/step - loss: 0.2122 - acc: 0.9372 - val_loss: 0.1432 - val_acc: 0.9579\n",
      "Epoch 39/250\n",
      "48000/48000 [==============================] - 4s 79us/step - loss: 0.2091 - acc: 0.9388 - val_loss: 0.1421 - val_acc: 0.9575\n",
      "Epoch 40/250\n",
      "48000/48000 [==============================] - 4s 78us/step - loss: 0.2042 - acc: 0.9393 - val_loss: 0.1410 - val_acc: 0.9581\n",
      "Epoch 41/250\n",
      "48000/48000 [==============================] - 4s 77us/step - loss: 0.2027 - acc: 0.9399 - val_loss: 0.1396 - val_acc: 0.9582\n",
      "Epoch 42/250\n",
      "48000/48000 [==============================] - 4s 77us/step - loss: 0.1984 - acc: 0.9416 - val_loss: 0.1367 - val_acc: 0.9594\n",
      "Epoch 43/250\n",
      "48000/48000 [==============================] - 4s 78us/step - loss: 0.2003 - acc: 0.9409 - val_loss: 0.1350 - val_acc: 0.9608\n",
      "Epoch 44/250\n",
      "48000/48000 [==============================] - 4s 75us/step - loss: 0.1953 - acc: 0.9422 - val_loss: 0.1337 - val_acc: 0.9607\n",
      "Epoch 45/250\n",
      "48000/48000 [==============================] - 4s 79us/step - loss: 0.1921 - acc: 0.9432 - val_loss: 0.1332 - val_acc: 0.9602\n",
      "Epoch 46/250\n",
      "48000/48000 [==============================] - 4s 77us/step - loss: 0.1901 - acc: 0.9444 - val_loss: 0.1316 - val_acc: 0.9615\n",
      "Epoch 47/250\n",
      "48000/48000 [==============================] - 4s 76us/step - loss: 0.1876 - acc: 0.9449 - val_loss: 0.1299 - val_acc: 0.9610\n",
      "Epoch 48/250\n",
      "48000/48000 [==============================] - 4s 75us/step - loss: 0.1867 - acc: 0.9443 - val_loss: 0.1300 - val_acc: 0.9618\n",
      "Epoch 49/250\n",
      "48000/48000 [==============================] - 4s 76us/step - loss: 0.1865 - acc: 0.9452 - val_loss: 0.1282 - val_acc: 0.9613\n",
      "Epoch 50/250\n",
      "48000/48000 [==============================] - 4s 76us/step - loss: 0.1803 - acc: 0.9463 - val_loss: 0.1267 - val_acc: 0.9621\n",
      "Epoch 51/250\n",
      "48000/48000 [==============================] - 4s 79us/step - loss: 0.1822 - acc: 0.9468 - val_loss: 0.1254 - val_acc: 0.9634\n",
      "Epoch 52/250\n",
      "48000/48000 [==============================] - 4s 80us/step - loss: 0.1794 - acc: 0.9460 - val_loss: 0.1244 - val_acc: 0.9631\n",
      "Epoch 53/250\n",
      "48000/48000 [==============================] - 4s 77us/step - loss: 0.1752 - acc: 0.9480 - val_loss: 0.1233 - val_acc: 0.9634\n",
      "Epoch 54/250\n",
      "48000/48000 [==============================] - 4s 77us/step - loss: 0.1738 - acc: 0.9477 - val_loss: 0.1220 - val_acc: 0.9636\n",
      "Epoch 55/250\n",
      "48000/48000 [==============================] - 4s 86us/step - loss: 0.1735 - acc: 0.9491 - val_loss: 0.1208 - val_acc: 0.9647\n",
      "Epoch 56/250\n",
      "48000/48000 [==============================] - 4s 80us/step - loss: 0.1719 - acc: 0.9486 - val_loss: 0.1207 - val_acc: 0.9637\n",
      "Epoch 57/250\n",
      "48000/48000 [==============================] - 4s 76us/step - loss: 0.1692 - acc: 0.9504 - val_loss: 0.1189 - val_acc: 0.9651\n",
      "Epoch 58/250\n",
      "48000/48000 [==============================] - 4s 77us/step - loss: 0.1663 - acc: 0.9508 - val_loss: 0.1187 - val_acc: 0.9651\n",
      "Epoch 59/250\n"
     ]
    },
    {
     "name": "stdout",
     "output_type": "stream",
     "text": [
      "48000/48000 [==============================] - 4s 80us/step - loss: 0.1682 - acc: 0.9501 - val_loss: 0.1172 - val_acc: 0.9654\n",
      "Epoch 60/250\n",
      "48000/48000 [==============================] - 4s 76us/step - loss: 0.1647 - acc: 0.9515 - val_loss: 0.1166 - val_acc: 0.9652\n",
      "Epoch 61/250\n",
      "48000/48000 [==============================] - 4s 84us/step - loss: 0.1615 - acc: 0.9522 - val_loss: 0.1157 - val_acc: 0.9656\n",
      "Epoch 62/250\n",
      "48000/48000 [==============================] - 5s 106us/step - loss: 0.1592 - acc: 0.9526 - val_loss: 0.1149 - val_acc: 0.9657\n",
      "Epoch 63/250\n",
      "48000/48000 [==============================] - 4s 77us/step - loss: 0.1587 - acc: 0.9533 - val_loss: 0.1142 - val_acc: 0.9660\n",
      "Epoch 64/250\n",
      "48000/48000 [==============================] - 5s 100us/step - loss: 0.1564 - acc: 0.9531 - val_loss: 0.1126 - val_acc: 0.9667\n",
      "Epoch 65/250\n",
      "48000/48000 [==============================] - 4s 79us/step - loss: 0.1560 - acc: 0.9541 - val_loss: 0.1128 - val_acc: 0.9668\n",
      "Epoch 66/250\n",
      "48000/48000 [==============================] - 4s 82us/step - loss: 0.1572 - acc: 0.9535 - val_loss: 0.1120 - val_acc: 0.9661\n",
      "Epoch 67/250\n",
      "48000/48000 [==============================] - 4s 79us/step - loss: 0.1553 - acc: 0.9547 - val_loss: 0.1106 - val_acc: 0.9667\n",
      "Epoch 68/250\n",
      "48000/48000 [==============================] - 4s 83us/step - loss: 0.1525 - acc: 0.9544 - val_loss: 0.1102 - val_acc: 0.9672\n",
      "Epoch 69/250\n",
      "48000/48000 [==============================] - 4s 81us/step - loss: 0.1523 - acc: 0.9553 - val_loss: 0.1089 - val_acc: 0.9677\n",
      "Epoch 70/250\n",
      "48000/48000 [==============================] - 5s 105us/step - loss: 0.1502 - acc: 0.9552 - val_loss: 0.1086 - val_acc: 0.9677\n",
      "Epoch 71/250\n",
      "48000/48000 [==============================] - 4s 81us/step - loss: 0.1478 - acc: 0.9566 - val_loss: 0.1082 - val_acc: 0.9680\n",
      "Epoch 72/250\n",
      "48000/48000 [==============================] - 4s 79us/step - loss: 0.1450 - acc: 0.9567 - val_loss: 0.1073 - val_acc: 0.9686\n",
      "Epoch 73/250\n",
      "48000/48000 [==============================] - 4s 84us/step - loss: 0.1462 - acc: 0.9569 - val_loss: 0.1068 - val_acc: 0.9679\n",
      "Epoch 74/250\n",
      "48000/48000 [==============================] - 5s 99us/step - loss: 0.1439 - acc: 0.9584 - val_loss: 0.1068 - val_acc: 0.9682\n",
      "Epoch 75/250\n",
      "48000/48000 [==============================] - 4s 88us/step - loss: 0.1447 - acc: 0.9566 - val_loss: 0.1059 - val_acc: 0.9680\n",
      "Epoch 76/250\n",
      "48000/48000 [==============================] - 4s 88us/step - loss: 0.1414 - acc: 0.9581 - val_loss: 0.1059 - val_acc: 0.9684\n",
      "Epoch 77/250\n",
      "48000/48000 [==============================] - 4s 88us/step - loss: 0.1421 - acc: 0.9579 - val_loss: 0.1056 - val_acc: 0.9682\n",
      "Epoch 78/250\n",
      "48000/48000 [==============================] - 5s 99us/step - loss: 0.1399 - acc: 0.9588 - val_loss: 0.1044 - val_acc: 0.9690\n",
      "Epoch 79/250\n",
      "48000/48000 [==============================] - 5s 96us/step - loss: 0.1416 - acc: 0.9574 - val_loss: 0.1042 - val_acc: 0.9686\n",
      "Epoch 80/250\n",
      " 1920/48000 [>.............................] - ETA: 4s - loss: 0.1287 - acc: 0.9625"
     ]
    },
    {
     "ename": "KeyboardInterrupt",
     "evalue": "",
     "output_type": "error",
     "traceback": [
      "\u001b[0;31m---------------------------------------------------------------------------\u001b[0m",
      "\u001b[0;31mKeyboardInterrupt\u001b[0m                         Traceback (most recent call last)",
      "\u001b[0;32m<ipython-input-26-4afbc43d2c91>\u001b[0m in \u001b[0;36m<module>\u001b[0;34m\u001b[0m\n\u001b[1;32m      1\u001b[0m history = model.fit(X_train, Y_train,\n\u001b[1;32m      2\u001b[0m                    \u001b[0mbatch_size\u001b[0m\u001b[0;34m=\u001b[0m\u001b[0mBATCH_SIZE\u001b[0m\u001b[0;34m,\u001b[0m \u001b[0mepochs\u001b[0m\u001b[0;34m=\u001b[0m\u001b[0mNP_EPOCH\u001b[0m\u001b[0;34m,\u001b[0m\u001b[0;34m\u001b[0m\u001b[0m\n\u001b[0;32m----> 3\u001b[0;31m                    verbose=VERBOSE, validation_split=VALIDATION_SPLIT)\n\u001b[0m",
      "\u001b[0;32m~/anaconda3/envs/tensorflow/lib/python3.6/site-packages/keras/engine/training.py\u001b[0m in \u001b[0;36mfit\u001b[0;34m(self, x, y, batch_size, epochs, verbose, callbacks, validation_split, validation_data, shuffle, class_weight, sample_weight, initial_epoch, steps_per_epoch, validation_steps, **kwargs)\u001b[0m\n\u001b[1;32m   1037\u001b[0m                                         \u001b[0minitial_epoch\u001b[0m\u001b[0;34m=\u001b[0m\u001b[0minitial_epoch\u001b[0m\u001b[0;34m,\u001b[0m\u001b[0;34m\u001b[0m\u001b[0m\n\u001b[1;32m   1038\u001b[0m                                         \u001b[0msteps_per_epoch\u001b[0m\u001b[0;34m=\u001b[0m\u001b[0msteps_per_epoch\u001b[0m\u001b[0;34m,\u001b[0m\u001b[0;34m\u001b[0m\u001b[0m\n\u001b[0;32m-> 1039\u001b[0;31m                                         validation_steps=validation_steps)\n\u001b[0m\u001b[1;32m   1040\u001b[0m \u001b[0;34m\u001b[0m\u001b[0m\n\u001b[1;32m   1041\u001b[0m     def evaluate(self, x=None, y=None,\n",
      "\u001b[0;32m~/anaconda3/envs/tensorflow/lib/python3.6/site-packages/keras/engine/training_arrays.py\u001b[0m in \u001b[0;36mfit_loop\u001b[0;34m(model, f, ins, out_labels, batch_size, epochs, verbose, callbacks, val_f, val_ins, shuffle, callback_metrics, initial_epoch, steps_per_epoch, validation_steps)\u001b[0m\n\u001b[1;32m    197\u001b[0m                     \u001b[0mins_batch\u001b[0m\u001b[0;34m[\u001b[0m\u001b[0mi\u001b[0m\u001b[0;34m]\u001b[0m \u001b[0;34m=\u001b[0m \u001b[0mins_batch\u001b[0m\u001b[0;34m[\u001b[0m\u001b[0mi\u001b[0m\u001b[0;34m]\u001b[0m\u001b[0;34m.\u001b[0m\u001b[0mtoarray\u001b[0m\u001b[0;34m(\u001b[0m\u001b[0;34m)\u001b[0m\u001b[0;34m\u001b[0m\u001b[0m\n\u001b[1;32m    198\u001b[0m \u001b[0;34m\u001b[0m\u001b[0m\n\u001b[0;32m--> 199\u001b[0;31m                 \u001b[0mouts\u001b[0m \u001b[0;34m=\u001b[0m \u001b[0mf\u001b[0m\u001b[0;34m(\u001b[0m\u001b[0mins_batch\u001b[0m\u001b[0;34m)\u001b[0m\u001b[0;34m\u001b[0m\u001b[0m\n\u001b[0m\u001b[1;32m    200\u001b[0m                 \u001b[0mouts\u001b[0m \u001b[0;34m=\u001b[0m \u001b[0mto_list\u001b[0m\u001b[0;34m(\u001b[0m\u001b[0mouts\u001b[0m\u001b[0;34m)\u001b[0m\u001b[0;34m\u001b[0m\u001b[0m\n\u001b[1;32m    201\u001b[0m                 \u001b[0;32mfor\u001b[0m \u001b[0ml\u001b[0m\u001b[0;34m,\u001b[0m \u001b[0mo\u001b[0m \u001b[0;32min\u001b[0m \u001b[0mzip\u001b[0m\u001b[0;34m(\u001b[0m\u001b[0mout_labels\u001b[0m\u001b[0;34m,\u001b[0m \u001b[0mouts\u001b[0m\u001b[0;34m)\u001b[0m\u001b[0;34m:\u001b[0m\u001b[0;34m\u001b[0m\u001b[0m\n",
      "\u001b[0;32m~/anaconda3/envs/tensorflow/lib/python3.6/site-packages/keras/backend/tensorflow_backend.py\u001b[0m in \u001b[0;36m__call__\u001b[0;34m(self, inputs)\u001b[0m\n\u001b[1;32m   2713\u001b[0m                 \u001b[0;32mreturn\u001b[0m \u001b[0mself\u001b[0m\u001b[0;34m.\u001b[0m\u001b[0m_legacy_call\u001b[0m\u001b[0;34m(\u001b[0m\u001b[0minputs\u001b[0m\u001b[0;34m)\u001b[0m\u001b[0;34m\u001b[0m\u001b[0m\n\u001b[1;32m   2714\u001b[0m \u001b[0;34m\u001b[0m\u001b[0m\n\u001b[0;32m-> 2715\u001b[0;31m             \u001b[0;32mreturn\u001b[0m \u001b[0mself\u001b[0m\u001b[0;34m.\u001b[0m\u001b[0m_call\u001b[0m\u001b[0;34m(\u001b[0m\u001b[0minputs\u001b[0m\u001b[0;34m)\u001b[0m\u001b[0;34m\u001b[0m\u001b[0m\n\u001b[0m\u001b[1;32m   2716\u001b[0m         \u001b[0;32melse\u001b[0m\u001b[0;34m:\u001b[0m\u001b[0;34m\u001b[0m\u001b[0m\n\u001b[1;32m   2717\u001b[0m             \u001b[0;32mif\u001b[0m \u001b[0mpy_any\u001b[0m\u001b[0;34m(\u001b[0m\u001b[0mis_tensor\u001b[0m\u001b[0;34m(\u001b[0m\u001b[0mx\u001b[0m\u001b[0;34m)\u001b[0m \u001b[0;32mfor\u001b[0m \u001b[0mx\u001b[0m \u001b[0;32min\u001b[0m \u001b[0minputs\u001b[0m\u001b[0;34m)\u001b[0m\u001b[0;34m:\u001b[0m\u001b[0;34m\u001b[0m\u001b[0m\n",
      "\u001b[0;32m~/anaconda3/envs/tensorflow/lib/python3.6/site-packages/keras/backend/tensorflow_backend.py\u001b[0m in \u001b[0;36m_call\u001b[0;34m(self, inputs)\u001b[0m\n\u001b[1;32m   2673\u001b[0m             \u001b[0mfetched\u001b[0m \u001b[0;34m=\u001b[0m \u001b[0mself\u001b[0m\u001b[0;34m.\u001b[0m\u001b[0m_callable_fn\u001b[0m\u001b[0;34m(\u001b[0m\u001b[0;34m*\u001b[0m\u001b[0marray_vals\u001b[0m\u001b[0;34m,\u001b[0m \u001b[0mrun_metadata\u001b[0m\u001b[0;34m=\u001b[0m\u001b[0mself\u001b[0m\u001b[0;34m.\u001b[0m\u001b[0mrun_metadata\u001b[0m\u001b[0;34m)\u001b[0m\u001b[0;34m\u001b[0m\u001b[0m\n\u001b[1;32m   2674\u001b[0m         \u001b[0;32melse\u001b[0m\u001b[0;34m:\u001b[0m\u001b[0;34m\u001b[0m\u001b[0m\n\u001b[0;32m-> 2675\u001b[0;31m             \u001b[0mfetched\u001b[0m \u001b[0;34m=\u001b[0m \u001b[0mself\u001b[0m\u001b[0;34m.\u001b[0m\u001b[0m_callable_fn\u001b[0m\u001b[0;34m(\u001b[0m\u001b[0;34m*\u001b[0m\u001b[0marray_vals\u001b[0m\u001b[0;34m)\u001b[0m\u001b[0;34m\u001b[0m\u001b[0m\n\u001b[0m\u001b[1;32m   2676\u001b[0m         \u001b[0;32mreturn\u001b[0m \u001b[0mfetched\u001b[0m\u001b[0;34m[\u001b[0m\u001b[0;34m:\u001b[0m\u001b[0mlen\u001b[0m\u001b[0;34m(\u001b[0m\u001b[0mself\u001b[0m\u001b[0;34m.\u001b[0m\u001b[0moutputs\u001b[0m\u001b[0;34m)\u001b[0m\u001b[0;34m]\u001b[0m\u001b[0;34m\u001b[0m\u001b[0m\n\u001b[1;32m   2677\u001b[0m \u001b[0;34m\u001b[0m\u001b[0m\n",
      "\u001b[0;32m~/anaconda3/envs/tensorflow/lib/python3.6/site-packages/tensorflow/python/client/session.py\u001b[0m in \u001b[0;36m__call__\u001b[0;34m(self, *args, **kwargs)\u001b[0m\n\u001b[1;32m   1437\u001b[0m           ret = tf_session.TF_SessionRunCallable(\n\u001b[1;32m   1438\u001b[0m               \u001b[0mself\u001b[0m\u001b[0;34m.\u001b[0m\u001b[0m_session\u001b[0m\u001b[0;34m.\u001b[0m\u001b[0m_session\u001b[0m\u001b[0;34m,\u001b[0m \u001b[0mself\u001b[0m\u001b[0;34m.\u001b[0m\u001b[0m_handle\u001b[0m\u001b[0;34m,\u001b[0m \u001b[0margs\u001b[0m\u001b[0;34m,\u001b[0m \u001b[0mstatus\u001b[0m\u001b[0;34m,\u001b[0m\u001b[0;34m\u001b[0m\u001b[0m\n\u001b[0;32m-> 1439\u001b[0;31m               run_metadata_ptr)\n\u001b[0m\u001b[1;32m   1440\u001b[0m         \u001b[0;32mif\u001b[0m \u001b[0mrun_metadata\u001b[0m\u001b[0;34m:\u001b[0m\u001b[0;34m\u001b[0m\u001b[0m\n\u001b[1;32m   1441\u001b[0m           \u001b[0mproto_data\u001b[0m \u001b[0;34m=\u001b[0m \u001b[0mtf_session\u001b[0m\u001b[0;34m.\u001b[0m\u001b[0mTF_GetBuffer\u001b[0m\u001b[0;34m(\u001b[0m\u001b[0mrun_metadata_ptr\u001b[0m\u001b[0;34m)\u001b[0m\u001b[0;34m\u001b[0m\u001b[0m\n",
      "\u001b[0;31mKeyboardInterrupt\u001b[0m: "
     ]
    }
   ],
   "source": [
    "history = model.fit(X_train, Y_train,\n",
    "                   batch_size=BATCH_SIZE, epochs=NP_EPOCH,\n",
    "                   verbose=VERBOSE, validation_split=VALIDATION_SPLIT)"
   ]
  },
  {
   "cell_type": "code",
   "execution_count": null,
   "metadata": {},
   "outputs": [],
   "source": [
    "score = model.evaluate(X_test, Y_test, verbose=VERBOSE)\n",
    "print(\"\\nTest score:\", score[0])\n",
    "print('Test accuracy:', score[1])"
   ]
  },
  {
   "cell_type": "code",
   "execution_count": null,
   "metadata": {},
   "outputs": [],
   "source": []
  }
 ],
 "metadata": {
  "kernelspec": {
   "display_name": "Python 3",
   "language": "python",
   "name": "python3"
  },
  "language_info": {
   "codemirror_mode": {
    "name": "ipython",
    "version": 3
   },
   "file_extension": ".py",
   "mimetype": "text/x-python",
   "name": "python",
   "nbconvert_exporter": "python",
   "pygments_lexer": "ipython3",
   "version": "3.6.6"
  }
 },
 "nbformat": 4,
 "nbformat_minor": 2
}
