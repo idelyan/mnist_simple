{
 "cells": [
  {
   "cell_type": "code",
   "execution_count": 2,
   "metadata": {},
   "outputs": [],
   "source": [
    "from __future__ import print_function\n",
    "import numpy as np\n",
    "from keras.datasets import mnist\n",
    "from keras.models import Sequential\n",
    "from keras.layers import Dense, Activation\n",
    "from keras.optimizers import SGD\n",
    "from keras.utils import np_utils\n",
    "np.random.seed(1671)"
   ]
  },
  {
   "cell_type": "code",
   "execution_count": 3,
   "metadata": {},
   "outputs": [],
   "source": [
    "NP_EPOCH = 20\n",
    "BATCH_SIZE = 128\n",
    "VERBOSE = 1\n",
    "NB_CLASSES = 10\n",
    "OPTIMIZER = SGD()\n",
    "N_HIDDEN = 128\n",
    "VALIDATION_SPLIT = 0.2"
   ]
  },
  {
   "cell_type": "code",
   "execution_count": 4,
   "metadata": {},
   "outputs": [],
   "source": [
    "(X_train, y_train), (X_test, y_test) = mnist.load_data()"
   ]
  },
  {
   "cell_type": "code",
   "execution_count": 5,
   "metadata": {},
   "outputs": [],
   "source": [
    "RESHAPED = 784"
   ]
  },
  {
   "cell_type": "code",
   "execution_count": 6,
   "metadata": {},
   "outputs": [],
   "source": [
    "X_train = X_train.reshape(60000, RESHAPED)\n",
    "X_test = X_test.reshape(10000, RESHAPED)\n",
    "X_train = X_train.astype('float32')\n",
    "X_test = X_test.astype('float32')"
   ]
  },
  {
   "cell_type": "code",
   "execution_count": 7,
   "metadata": {},
   "outputs": [
    {
     "name": "stdout",
     "output_type": "stream",
     "text": [
      "60000 train samples\n",
      "10000 test samples\n"
     ]
    }
   ],
   "source": [
    "X_train /= 255\n",
    "X_test /= 255\n",
    "\n",
    "print(X_train.shape[0], 'train samples')\n",
    "print(X_test.shape[0], 'test samples')"
   ]
  },
  {
   "cell_type": "code",
   "execution_count": 8,
   "metadata": {},
   "outputs": [],
   "source": [
    "Y_train = np_utils.to_categorical(y_train, NB_CLASSES)\n",
    "Y_test = np_utils.to_categorical(y_test, NB_CLASSES)"
   ]
  },
  {
   "cell_type": "code",
   "execution_count": 10,
   "metadata": {},
   "outputs": [
    {
     "name": "stdout",
     "output_type": "stream",
     "text": [
      "_________________________________________________________________\n",
      "Layer (type)                 Output Shape              Param #   \n",
      "=================================================================\n",
      "dense_4 (Dense)              (None, 128)               100480    \n",
      "_________________________________________________________________\n",
      "activation_4 (Activation)    (None, 128)               0         \n",
      "_________________________________________________________________\n",
      "dense_5 (Dense)              (None, 128)               16512     \n",
      "_________________________________________________________________\n",
      "activation_5 (Activation)    (None, 128)               0         \n",
      "_________________________________________________________________\n",
      "dense_6 (Dense)              (None, 10)                1290      \n",
      "_________________________________________________________________\n",
      "activation_6 (Activation)    (None, 10)                0         \n",
      "=================================================================\n",
      "Total params: 118,282\n",
      "Trainable params: 118,282\n",
      "Non-trainable params: 0\n",
      "_________________________________________________________________\n"
     ]
    }
   ],
   "source": [
    "model = Sequential()\n",
    "model.add(Dense(N_HIDDEN, input_shape=(RESHAPED,)))\n",
    "model.add(Activation('relu'))\n",
    "model.add(Dense(N_HIDDEN))\n",
    "model.add(Activation('relu'))\n",
    "model.add(Dense(NB_CLASSES))\n",
    "model.add(Activation('softmax'))\n",
    "model.summary()\n",
    "model.compile(loss='categorical_crossentropy',\n",
    "              optimizer=OPTIMIZER,\n",
    "              metrics=['accuracy'])"
   ]
  },
  {
   "cell_type": "code",
   "execution_count": 11,
   "metadata": {},
   "outputs": [
    {
     "name": "stdout",
     "output_type": "stream",
     "text": [
      "Train on 48000 samples, validate on 12000 samples\n",
      "Epoch 1/20\n",
      "48000/48000 [==============================] - 4s 75us/step - loss: 1.5952 - acc: 0.5971 - val_loss: 0.8596 - val_acc: 0.8188\n",
      "Epoch 2/20\n",
      "48000/48000 [==============================] - 3s 67us/step - loss: 0.6531 - acc: 0.8429 - val_loss: 0.4838 - val_acc: 0.8786\n",
      "Epoch 3/20\n",
      "48000/48000 [==============================] - 3s 54us/step - loss: 0.4569 - acc: 0.8799 - val_loss: 0.3862 - val_acc: 0.8971\n",
      "Epoch 4/20\n",
      "48000/48000 [==============================] - 3s 58us/step - loss: 0.3878 - acc: 0.8947 - val_loss: 0.3422 - val_acc: 0.9046\n",
      "Epoch 5/20\n",
      "48000/48000 [==============================] - 3s 54us/step - loss: 0.3507 - acc: 0.9022 - val_loss: 0.3157 - val_acc: 0.9121\n",
      "Epoch 6/20\n",
      "48000/48000 [==============================] - 3s 55us/step - loss: 0.3261 - acc: 0.9086 - val_loss: 0.2965 - val_acc: 0.9171\n",
      "Epoch 7/20\n",
      "48000/48000 [==============================] - 3s 55us/step - loss: 0.3076 - acc: 0.9130 - val_loss: 0.2841 - val_acc: 0.9206\n",
      "Epoch 8/20\n",
      "48000/48000 [==============================] - 3s 58us/step - loss: 0.2922 - acc: 0.9166 - val_loss: 0.2726 - val_acc: 0.9234\n",
      "Epoch 9/20\n",
      "48000/48000 [==============================] - 3s 55us/step - loss: 0.2795 - acc: 0.9214 - val_loss: 0.2607 - val_acc: 0.9264\n",
      "Epoch 10/20\n",
      "48000/48000 [==============================] - 3s 55us/step - loss: 0.2680 - acc: 0.9244 - val_loss: 0.2532 - val_acc: 0.9282\n",
      "Epoch 11/20\n",
      "48000/48000 [==============================] - 3s 55us/step - loss: 0.2582 - acc: 0.9273 - val_loss: 0.2443 - val_acc: 0.9313\n",
      "Epoch 12/20\n",
      "48000/48000 [==============================] - 3s 55us/step - loss: 0.2489 - acc: 0.9292 - val_loss: 0.2370 - val_acc: 0.9333\n",
      "Epoch 13/20\n",
      "48000/48000 [==============================] - 3s 55us/step - loss: 0.2406 - acc: 0.9322 - val_loss: 0.2294 - val_acc: 0.9351\n",
      "Epoch 14/20\n",
      "48000/48000 [==============================] - 3s 55us/step - loss: 0.2330 - acc: 0.9342 - val_loss: 0.2243 - val_acc: 0.9377\n",
      "Epoch 15/20\n",
      "48000/48000 [==============================] - 3s 59us/step - loss: 0.2258 - acc: 0.9363 - val_loss: 0.2176 - val_acc: 0.9396\n",
      "Epoch 16/20\n",
      "48000/48000 [==============================] - 3s 56us/step - loss: 0.2192 - acc: 0.9379 - val_loss: 0.2135 - val_acc: 0.9401\n",
      "Epoch 17/20\n",
      "48000/48000 [==============================] - 3s 57us/step - loss: 0.2127 - acc: 0.9399 - val_loss: 0.2102 - val_acc: 0.9408\n",
      "Epoch 18/20\n",
      "48000/48000 [==============================] - ETA: 0s - loss: 0.2070 - acc: 0.941 - 3s 58us/step - loss: 0.2069 - acc: 0.9414 - val_loss: 0.2029 - val_acc: 0.9448\n",
      "Epoch 19/20\n",
      "48000/48000 [==============================] - 3s 55us/step - loss: 0.2014 - acc: 0.9433 - val_loss: 0.1989 - val_acc: 0.9452\n",
      "Epoch 20/20\n",
      "48000/48000 [==============================] - 3s 56us/step - loss: 0.1962 - acc: 0.9449 - val_loss: 0.1948 - val_acc: 0.9457\n"
     ]
    }
   ],
   "source": [
    "history = model.fit(X_train, Y_train,\n",
    "                   batch_size=BATCH_SIZE, epochs=NP_EPOCH,\n",
    "                   verbose=VERBOSE, validation_split=VALIDATION_SPLIT)"
   ]
  },
  {
   "cell_type": "code",
   "execution_count": 12,
   "metadata": {},
   "outputs": [
    {
     "name": "stdout",
     "output_type": "stream",
     "text": [
      "10000/10000 [==============================] - 0s 42us/step\n",
      "\n",
      "Test score: 0.19303862362653018\n",
      "Test accuracy: 0.9438\n"
     ]
    }
   ],
   "source": [
    "score = model.evaluate(X_test, Y_test, verbose=VERBOSE)\n",
    "print(\"\\nTest score:\", score[0])\n",
    "print('Test accuracy:', score[1])"
   ]
  },
  {
   "cell_type": "code",
   "execution_count": 13,
   "metadata": {},
   "outputs": [],
   "source": [
    "model.save('model_2.h5')"
   ]
  },
  {
   "cell_type": "code",
   "execution_count": 14,
   "metadata": {},
   "outputs": [
    {
     "name": "stdout",
     "output_type": "stream",
     "text": [
      "mnist_1.ipynb mnist_2.ipynb model_1.h5    model_2.h5\r\n"
     ]
    }
   ],
   "source": [
    "!ls"
   ]
  },
  {
   "cell_type": "code",
   "execution_count": null,
   "metadata": {},
   "outputs": [],
   "source": []
  }
 ],
 "metadata": {
  "kernelspec": {
   "display_name": "Python 3",
   "language": "python",
   "name": "python3"
  },
  "language_info": {
   "codemirror_mode": {
    "name": "ipython",
    "version": 3
   },
   "file_extension": ".py",
   "mimetype": "text/x-python",
   "name": "python",
   "nbconvert_exporter": "python",
   "pygments_lexer": "ipython3",
   "version": "3.6.6"
  }
 },
 "nbformat": 4,
 "nbformat_minor": 2
}
